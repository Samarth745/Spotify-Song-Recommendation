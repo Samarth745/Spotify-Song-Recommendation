{
 "cells": [
  {
   "cell_type": "code",
   "execution_count": 80,
   "id": "e4679167",
   "metadata": {},
   "outputs": [],
   "source": [
    "import spotipy\n",
    "from spotipy.oauth2 import SpotifyClientCredentials\n",
    "import pandas as pd\n",
    "import numpy as np\n"
   ]
  },
  {
   "cell_type": "code",
   "execution_count": 81,
   "id": "b44bf818",
   "metadata": {},
   "outputs": [],
   "source": [
    "#Authentication - without user\n",
    "client_credentials_manager = SpotifyClientCredentials(client_id='f76ee452a0464e9198b742acce8b3ff6', client_secret='6c27e0026ad0424393f1e96ee7a05851')\n",
    "sp = spotipy.Spotify(client_credentials_manager = client_credentials_manager)"
   ]
  },
  {
   "cell_type": "code",
   "execution_count": 82,
   "id": "1f1f7095",
   "metadata": {},
   "outputs": [
    {
     "name": "stdout",
     "output_type": "stream",
     "text": [
      "Insert track name tum hi ho\n",
      "Insert Artist name arijit singh\n"
     ]
    },
    {
     "name": "stderr",
     "output_type": "stream",
     "text": [
      "Couldn't read cache at: .cache\n",
      "Couldn't write token to cache at: .cache\n",
      "Couldn't read cache at: .cache\n",
      "Couldn't write token to cache at: .cache\n"
     ]
    },
    {
     "name": "stdout",
     "output_type": "stream",
     "text": [
      "Tum Hi Ho (From \"Aashiqui 2\")\n"
     ]
    },
    {
     "name": "stderr",
     "output_type": "stream",
     "text": [
      "Couldn't read cache at: .cache\n",
      "Couldn't write token to cache at: .cache\n"
     ]
    }
   ],
   "source": [
    "Track_name=input(\"Insert track name \")\n",
    "Artist_name=input(\"Insert Artist name \")\n",
    "input_song = sp.search('track:tum hi ho% artists:arijit singh',limit=1)['tracks']['items'][0]['name']\n",
    "print(input_song)\n",
    "input_song_id = sp.search('track:tum hi ho% artists:arijit singh',limit=1)['tracks']['items'][0]['id']\n",
    "input_song_features = sp.audio_features(song_id)\n"
   ]
  },
  {
   "cell_type": "code",
   "execution_count": 94,
   "id": "39f693fa",
   "metadata": {},
   "outputs": [],
   "source": [
    "x = pd.DataFrame(input_song_features)"
   ]
  },
  {
   "cell_type": "code",
   "execution_count": 89,
   "id": "81469a9d",
   "metadata": {},
   "outputs": [
    {
     "name": "stderr",
     "output_type": "stream",
     "text": [
      "C:\\Users\\Samarth\\anaconda3\\lib\\site-packages\\IPython\\core\\interactiveshell.py:3165: DtypeWarning: Columns (19) have mixed types.Specify dtype option on import or set low_memory=False.\n",
      "  has_raised = await self.run_ast_nodes(code_ast.body, cell_name,\n"
     ]
    }
   ],
   "source": [
    "df=pd.read_csv(r'C:\\Users\\Samarth\\Desktop\\Music_data.csv')"
   ]
  },
  {
   "cell_type": "code",
   "execution_count": 90,
   "id": "e38c3eaa",
   "metadata": {},
   "outputs": [
    {
     "data": {
      "text/html": [
       "<div>\n",
       "<style scoped>\n",
       "    .dataframe tbody tr th:only-of-type {\n",
       "        vertical-align: middle;\n",
       "    }\n",
       "\n",
       "    .dataframe tbody tr th {\n",
       "        vertical-align: top;\n",
       "    }\n",
       "\n",
       "    .dataframe thead th {\n",
       "        text-align: right;\n",
       "    }\n",
       "</style>\n",
       "<table border=\"1\" class=\"dataframe\">\n",
       "  <thead>\n",
       "    <tr style=\"text-align: right;\">\n",
       "      <th></th>\n",
       "      <th>danceability</th>\n",
       "      <th>energy</th>\n",
       "      <th>key</th>\n",
       "      <th>loudness</th>\n",
       "      <th>mode</th>\n",
       "      <th>speechiness</th>\n",
       "      <th>acousticness</th>\n",
       "      <th>instrumentalness</th>\n",
       "      <th>liveness</th>\n",
       "      <th>valence</th>\n",
       "      <th>tempo</th>\n",
       "    </tr>\n",
       "  </thead>\n",
       "  <tbody>\n",
       "    <tr>\n",
       "      <th>0</th>\n",
       "      <td>0.831</td>\n",
       "      <td>0.814</td>\n",
       "      <td>2</td>\n",
       "      <td>-7.364</td>\n",
       "      <td>1</td>\n",
       "      <td>0.4200</td>\n",
       "      <td>0.0598</td>\n",
       "      <td>0.0134</td>\n",
       "      <td>0.0556</td>\n",
       "      <td>0.389</td>\n",
       "      <td>156.985</td>\n",
       "    </tr>\n",
       "    <tr>\n",
       "      <th>1</th>\n",
       "      <td>0.719</td>\n",
       "      <td>0.493</td>\n",
       "      <td>8</td>\n",
       "      <td>-7.230</td>\n",
       "      <td>1</td>\n",
       "      <td>0.0794</td>\n",
       "      <td>0.4010</td>\n",
       "      <td>0.0000</td>\n",
       "      <td>0.1180</td>\n",
       "      <td>0.124</td>\n",
       "      <td>115.080</td>\n",
       "    </tr>\n",
       "  </tbody>\n",
       "</table>\n",
       "</div>"
      ],
      "text/plain": [
       "   danceability  energy  key  loudness  mode  speechiness  acousticness  \\\n",
       "0         0.831   0.814    2    -7.364     1       0.4200        0.0598   \n",
       "1         0.719   0.493    8    -7.230     1       0.0794        0.4010   \n",
       "\n",
       "   instrumentalness  liveness  valence    tempo  \n",
       "0            0.0134    0.0556    0.389  156.985  \n",
       "1            0.0000    0.1180    0.124  115.080  "
      ]
     },
     "execution_count": 90,
     "metadata": {},
     "output_type": "execute_result"
    }
   ],
   "source": [
    "new_data = df.iloc[:,:11]\n",
    "new_result = x.iloc[:,:11]\n",
    "new_data.head(2)"
   ]
  },
  {
   "cell_type": "code",
   "execution_count": 91,
   "id": "f6df0f1e",
   "metadata": {},
   "outputs": [],
   "source": [
    "new_data['Vector']=new_data.apply(lambda x:tuple(x),axis=1)\n",
    "new_result['Vector']=new_result.apply(lambda x:tuple(x),axis=1)\n",
    "\n",
    "b = new_result['Vector'][0]\n",
    "\n",
    "b = np.array(b)\n",
    "new_data['distance']=new_data['Vector'].apply(lambda x:np.linalg.norm(x-b))\n",
    "\n",
    "index = new_data.sort_values('distance').head().index"
   ]
  },
  {
   "cell_type": "code",
   "execution_count": 92,
   "id": "33f18cb0",
   "metadata": {},
   "outputs": [],
   "source": []
  },
  {
   "cell_type": "code",
   "execution_count": 93,
   "id": "7a8a4253",
   "metadata": {},
   "outputs": [
    {
     "data": {
      "text/plain": [
       "[(14867    If You Gotta... (feat. Fabolous)\n",
       "  Name: song_name, dtype: object,\n",
       "  'http://open.spotify.com/track/14867'),\n",
       " (15113    Outta Time (feat. Drake)\n",
       "  Name: song_name, dtype: object,\n",
       "  'http://open.spotify.com/track/15113'),\n",
       " (14240    Zoo York (feat. Fivio Foreign & Pop Smoke)\n",
       "  Name: song_name, dtype: object,\n",
       "  'http://open.spotify.com/track/14240'),\n",
       " (14737    Blind (feat. A Boogie Wit da Hoodie)\n",
       "  Name: song_name, dtype: object,\n",
       "  'http://open.spotify.com/track/14737'),\n",
       " (15383    Generation Y\n",
       "  Name: song_name, dtype: object,\n",
       "  'http://open.spotify.com/track/15383')]"
      ]
     },
     "execution_count": 93,
     "metadata": {},
     "output_type": "execute_result"
    }
   ],
   "source": [
    "A"
   ]
  },
  {
   "cell_type": "code",
   "execution_count": null,
   "id": "f297aabd",
   "metadata": {},
   "outputs": [],
   "source": []
  },
  {
   "cell_type": "code",
   "execution_count": null,
   "id": "37f4c75a",
   "metadata": {
    "scrolled": true
   },
   "outputs": [],
   "source": []
  },
  {
   "cell_type": "code",
   "execution_count": null,
   "id": "f294bee8",
   "metadata": {},
   "outputs": [],
   "source": []
  }
 ],
 "metadata": {
  "kernelspec": {
   "display_name": "Python 3",
   "language": "python",
   "name": "python3"
  },
  "language_info": {
   "codemirror_mode": {
    "name": "ipython",
    "version": 3
   },
   "file_extension": ".py",
   "mimetype": "text/x-python",
   "name": "python",
   "nbconvert_exporter": "python",
   "pygments_lexer": "ipython3",
   "version": "3.8.8"
  }
 },
 "nbformat": 4,
 "nbformat_minor": 5
}
